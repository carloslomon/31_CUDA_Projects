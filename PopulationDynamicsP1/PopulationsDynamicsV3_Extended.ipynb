{
  "nbformat": 4,
  "nbformat_minor": 0,
  "metadata": {
    "colab": {
      "provenance": [],
      "gpuType": "T4"
    },
    "kernelspec": {
      "name": "python3",
      "display_name": "Python 3"
    },
    "language_info": {
      "name": "python"
    },
    "accelerator": "GPU"
  },
  "cells": [
    {
      "cell_type": "markdown",
      "source": [
        "# Population Dynamics in CUDA V1\n",
        "\n"
      ],
      "metadata": {
        "id": "W5bZWYZxgS4m"
      }
    },
    {
      "cell_type": "markdown",
      "source": [
        "The simulation runs for `NUM_TIMEPERIODS`. At each time period all of the members of each species calls the `food_oracle` inorder for everyone to `gather_all_food`. After all food is collected we can `update_all_populations` based on the amount of food gathered. In order to do so we need to first `compute_local_population_share` which is the percentage of all species WITHIN A SINGLE REGION that belong to a given species. We can then use that to `update_community_population` for each community of each species based on 3 rules as listed in later sections of this document."
      ],
      "metadata": {
        "id": "wzk0aIfXij4l"
      }
    },
    {
      "cell_type": "code",
      "source": [
        "!nvcc --version"
      ],
      "metadata": {
        "id": "El6BrLD9iSpI",
        "colab": {
          "base_uri": "https://localhost:8080/"
        },
        "outputId": "fa644f21-9910-4278-c458-d9845a8c7103"
      },
      "execution_count": 1,
      "outputs": [
        {
          "output_type": "stream",
          "name": "stdout",
          "text": [
            "nvcc: NVIDIA (R) Cuda compiler driver\n",
            "Copyright (c) 2005-2023 NVIDIA Corporation\n",
            "Built on Tue_Aug_15_22:02:13_PDT_2023\n",
            "Cuda compilation tools, release 12.2, V12.2.140\n",
            "Build cuda_12.2.r12.2/compiler.33191640_0\n"
          ]
        }
      ]
    },
    {
      "cell_type": "code",
      "source": [
        "!nvidia-smi"
      ],
      "metadata": {
        "id": "Sur0uLf5QE8z",
        "colab": {
          "base_uri": "https://localhost:8080/"
        },
        "outputId": "4d4780fd-dcb4-4c7e-83cf-ef7dd355c732"
      },
      "execution_count": 2,
      "outputs": [
        {
          "output_type": "stream",
          "name": "stdout",
          "text": [
            "Sun May 26 10:53:06 2024       \n",
            "+---------------------------------------------------------------------------------------+\n",
            "| NVIDIA-SMI 535.104.05             Driver Version: 535.104.05   CUDA Version: 12.2     |\n",
            "|-----------------------------------------+----------------------+----------------------+\n",
            "| GPU  Name                 Persistence-M | Bus-Id        Disp.A | Volatile Uncorr. ECC |\n",
            "| Fan  Temp   Perf          Pwr:Usage/Cap |         Memory-Usage | GPU-Util  Compute M. |\n",
            "|                                         |                      |               MIG M. |\n",
            "|=========================================+======================+======================|\n",
            "|   0  Tesla T4                       Off | 00000000:00:04.0 Off |                    0 |\n",
            "| N/A   51C    P8              10W /  70W |      0MiB / 15360MiB |      0%      Default |\n",
            "|                                         |                      |                  N/A |\n",
            "+-----------------------------------------+----------------------+----------------------+\n",
            "                                                                                         \n",
            "+---------------------------------------------------------------------------------------+\n",
            "| Processes:                                                                            |\n",
            "|  GPU   GI   CI        PID   Type   Process name                            GPU Memory |\n",
            "|        ID   ID                                                             Usage      |\n",
            "|=======================================================================================|\n",
            "|  No running processes found                                                           |\n",
            "+---------------------------------------------------------------------------------------+\n"
          ]
        }
      ]
    },
    {
      "cell_type": "code",
      "source": [
        "!pip install nvcc4jupyter\n",
        "%load_ext nvcc4jupyter"
      ],
      "metadata": {
        "colab": {
          "base_uri": "https://localhost:8080/"
        },
        "id": "DkkAYE6pQHza",
        "outputId": "0b1513f4-f238-4347-faed-8b55913a27db"
      },
      "execution_count": 3,
      "outputs": [
        {
          "output_type": "stream",
          "name": "stdout",
          "text": [
            "Collecting nvcc4jupyter\n",
            "  Downloading nvcc4jupyter-1.2.1-py3-none-any.whl (10 kB)\n",
            "Installing collected packages: nvcc4jupyter\n",
            "Successfully installed nvcc4jupyter-1.2.1\n",
            "Detected platform \"Colab\". Running its setup...\n",
            "Source files will be saved in \"/tmp/tmpfxw6ytog\".\n"
          ]
        }
      ]
    },
    {
      "cell_type": "code",
      "source": [
        "%%cuda_group_save -n helpers.h -g default\n",
        "#include <iostream>\n",
        "#define NUM_REGIONS 4\n",
        "#define NUM_SPECIES 4\n",
        "#define COMMUNITIES_PER_NUM_SPECIES 4\n",
        "#define COMMUNITIES_PER_REGION (NUM_SPECIES*COMMUNITIES_PER_NUM_SPECIES)\n",
        "#define TOTAL_COMMUNITIES (NUM_REGIONS * COMMUNITIES_PER_REGION)\n",
        "#define MAX_STARTING_POP 10\n",
        "#define NUM_TIME_PERIODS 5\n",
        "// for this simulation, we will only consider 1 block\n",
        "#define NUM_BLOCKS 1\n",
        "#define NUM_THREADS (TOTAL_COMMUNITIES/NUM_BLOCKS)\n",
        "// We will have a block with 64 threads since we have 4 species, 4 communities per species, and 4 regions\n",
        "//Now lets move on with the food oracle\n",
        "typedef struct {\n",
        "    int population; // the current count of population memebers\n",
        "    int food_collected; // the current count of food collected\n",
        "    int region_of_world; // region of the world we only have 2\n",
        "    int species_type; // species type is just an int and we have 2 species\n",
        "    float growth_rate; // this is a growth rate that we will define in latter functions\n",
        "    float helperf; //this is our helper float\n",
        "\n",
        "} Species_Community;\n",
        "__host__ __device__\n",
        "int gather_food(int community_id){ return 1; // returning 1 makes sure we get 1 unit per population member\n",
        "    //random range integer in range [0, max_range]\n",
        "}\n",
        "__host__\n",
        "int rand_range(int max_range){\n",
        "    return rand() % max_range;\n",
        "    //random float in range [0,1]\n",
        "}\n",
        "__host__\n",
        "float rand01(){\n",
        "    return (float)rand()/(float)RAND_MAX; // make sure to cas to float\n",
        "}"
      ],
      "metadata": {
        "id": "bcka4qOmRiCt"
      },
      "execution_count": 4,
      "outputs": []
    },
    {
      "cell_type": "code",
      "source": [
        "%%cuda_group_save -n util.h -g default\n",
        "#include \"helpers.h\"\n",
        "//function to simulate population change for one community of one species\n",
        "// 1) change in pop for a community is proportional to its growth rate and local population share\n",
        "// 2) If the community has collected enough food to feed the population, it grows else it shrinks\n",
        "// 3) If the population drops below 6, it goes extinct\n",
        "__device__\n",
        "void update_community_population(Species_Community *s_communities, int community_id, float local_population_share){\n",
        "    float percent_change = local_population_share * s_communities[community_id].growth_rate;\n",
        "    // proportional to means the derivative or rate of change is the product of the growth_rate and local_population_share\n",
        "    int grow_or_shrink = s_communities[community_id].population >= s_communities[community_id].food_collected ? 1 : -1;\n",
        "    int new_pop = s_communities[community_id].population * (grow_or_shrink * percent_change + 1); // new population\n",
        "    s_communities[community_id].population = (new_pop >= 5) * new_pop;\n",
        "}\n",
        "// fctn to find the local population share\n",
        "//1) Population share is defined as the percentage of pop in a region\n",
        "//that is a given species across all communities of all species\n",
        "// 2) We can assume this fctn is run as if it were a single thread.\n",
        "__device__\n",
        "float compute_local_population_share(Species_Community *s_communities, int community_id){\n",
        "    //here we just want the total regional pop and the total species pop in the region\n",
        "    int target_species = s_communities[community_id].species_type;\n",
        "    int target_region = s_communities[community_id].region_of_world;\n",
        "    int total_pop_in_the_region = 0;\n",
        "    int total_species_pop_in_the_region = 0;\n",
        "    for(int id =0; id < TOTAL_COMMUNITIES; id++){\n",
        "        if(s_communities[id].region_of_world == target_region){\n",
        "            total_pop_in_the_region += s_communities[id].population;\n",
        "            if(s_communities[id].species_type == target_species){\n",
        "                total_species_pop_in_the_region += s_communities[id].population;\n",
        "            }\n",
        "        }\n",
        "    }\n",
        "    __syncthreads();\n",
        "    return ((float)total_species_pop_in_the_region)/((float)total_pop_in_the_region);\n",
        "}\n",
        "\n",
        "//fctn to simulate food gathering.\n",
        "//1) total food is always reset to 0 for each call and each member of the population.\n",
        "//2) Please use gather_food() to get a new amount of food for each memeber of the population\n",
        "__device__\n",
        "void gather_all_food(Species_Community *s_communities){\n",
        "    //now\n",
        "    for(int id = threadIdx.x; id < TOTAL_COMMUNITIES; id+=blockDim.x){\n",
        "        //equivalently we can use id++ or id += blockDim.x bc our block dim is 1\n",
        "        s_communities[id].food_collected = 0;\n",
        "        //int population = (unsigned) s_communities[id].population;\n",
        "        for(int i =0; i< s_communities[id].population; i++){\n",
        "            s_communities[id].food_collected += gather_food(id);\n",
        "        }\n",
        "\n",
        "    }\n",
        "    __syncthreads();\n",
        "}\n",
        "\n",
        "//update all populations for all communities of all species;\n",
        "//1) We will need to use compute_ocal_population_share and update_community_population\n",
        "//2) We can use as many threads as possible but the logic has to be safe\n",
        "//3) We can use the helperf to store values when running the function in parallel\n",
        "__device__\n",
        "void update_all_populations(Species_Community *s_communities){\n",
        "    for(int id = threadIdx.x; id < TOTAL_COMMUNITIES; id+=blockDim.x){\n",
        "        s_communities[id].helperf = compute_local_population_share(s_communities, id);\n",
        "    }\n",
        "    __syncthreads();\n",
        "    for(int id = threadIdx.x; id < TOTAL_COMMUNITIES; id+=blockDim.x){\n",
        "        //printf(\"%u\",blockDim.x);\n",
        "        update_community_population(s_communities, id, s_communities[id].helperf);\n",
        "    }\n",
        "    __syncthreads();\n",
        "}\n",
        "__global__\n",
        "void population_dynamics_kernel(Species_Community *d_communities){ //here we change the varname to d_communities since we run it in the device\n",
        "    for(int i =0; i < NUM_TIME_PERIODS; i++){\n",
        "        int community_id = threadIdx.x;\n",
        "        if(community_id < TOTAL_COMMUNITIES){\n",
        "            gather_all_food(d_communities);\n",
        "        }\n",
        "        __syncthreads();\n",
        "\n",
        "        update_all_populations(d_communities);\n",
        "    }\n",
        "    //__syncthreads();\n",
        "\n",
        "}\n",
        "\n",
        "//The main functions\n",
        "\n",
        "__host__\n",
        "void population_dynamics(Species_Community *h_communities){\n",
        "    //cudaSetDevice(0);\n",
        "    Species_Community *d_communities;\n",
        "    cudaMalloc(&d_communities, sizeof(Species_Community)*TOTAL_COMMUNITIES); //allocate data in the device // I confused this cuda_memcpy\n",
        "    //below we are loading from host to device\n",
        "    cudaMemcpy(d_communities, h_communities, sizeof(Species_Community)*TOTAL_COMMUNITIES, cudaMemcpyHostToDevice);\n",
        "    cudaDeviceSynchronize();\n",
        "    //run kernel\n",
        "    population_dynamics_kernel<<<NUM_BLOCKS, NUM_THREADS>>>(d_communities);\n",
        "    cudaDeviceSynchronize();\n",
        "    cudaGetLastError(); //just in case to catch an error\n",
        "\n",
        "    //now load from device to Host\n",
        "    cudaMemcpy(h_communities, d_communities, sizeof(Species_Community) * TOTAL_COMMUNITIES, cudaMemcpyDeviceToHost);\n",
        "    cudaDeviceSynchronize();\n",
        "    //Now we free the memory\n",
        "    cudaFree(d_communities);\n",
        "}"
      ],
      "metadata": {
        "id": "aOWzQU1hkXq6"
      },
      "execution_count": 5,
      "outputs": []
    },
    {
      "cell_type": "code",
      "source": [
        "\n",
        "%%cuda_group_save -n run.cu -g default\n",
        "#include \"util.h\"\n",
        "__host__\n",
        "int main(){\n",
        "    srand(1337);\n",
        "    Species_Community h_communities[TOTAL_COMMUNITIES];\n",
        "    for(int community_id =0; community_id < TOTAL_COMMUNITIES; community_id++){\n",
        "        //I like to use id for the sake of simplicty but you can use community_id for clarity\n",
        "        h_communities[community_id].population = rand_range(MAX_STARTING_POP) + 5; // set starting pop\n",
        "        h_communities[community_id].region_of_world = rand_range(NUM_REGIONS); // we can randomly assign regions here; 0 or 1\n",
        "        h_communities[community_id].species_type = rand_range(NUM_SPECIES); // species type is also random 0 or 1\n",
        "        h_communities[community_id].growth_rate = rand01();  //between 0 and 1\n",
        "    }\n",
        "    for(int community_id = 0; community_id < TOTAL_COMMUNITIES; community_id++){\n",
        "        std::cout << \"ID[\" << community_id << \"]: of type [\" << h_communities[community_id].species_type << \"]: in region [\" << h_communities[community_id].region_of_world <<\n",
        "        \"]: had initial population [\" << h_communities[community_id].population << \"]\" << std::endl;\n",
        "    }\n",
        "\n",
        "    // now we call the main fctn for pop_dynamics\n",
        "    population_dynamics(h_communities);\n",
        "\n",
        "    //Now we can proceed to print the final results yay\n",
        "    std::cout << \"\\n----------\\n----------\\n----------\\n\";\n",
        "\n",
        "    for(int community_id = 0; community_id < TOTAL_COMMUNITIES; community_id++){\n",
        "        std::cout << \"ID[\" << community_id << \"]: of type [\" << h_communities[community_id].species_type << \"]: in region [\" << h_communities[community_id].region_of_world <<\n",
        "        \"]: had final population [\" << h_communities[community_id].population << \"]\" << std::endl;\n",
        "    }\n",
        "    return 0;\n",
        "\n",
        "\n",
        "}"
      ],
      "metadata": {
        "id": "o-T-Ed1PXaD5"
      },
      "execution_count": 6,
      "outputs": []
    },
    {
      "cell_type": "code",
      "source": [
        "%cuda_group_run -g default"
      ],
      "metadata": {
        "colab": {
          "base_uri": "https://localhost:8080/"
        },
        "id": "Oj3kD9luBiSF",
        "outputId": "8a6230b1-1bb9-44bc-b96d-61b853008d63"
      },
      "execution_count": 7,
      "outputs": [
        {
          "output_type": "stream",
          "name": "stdout",
          "text": [
            "ID[0]: of type [3]: in region [2]: had initial population [6]\n",
            "ID[1]: of type [1]: in region [2]: had initial population [9]\n",
            "ID[2]: of type [3]: in region [3]: had initial population [13]\n",
            "ID[3]: of type [0]: in region [3]: had initial population [9]\n",
            "ID[4]: of type [2]: in region [0]: had initial population [10]\n",
            "ID[5]: of type [0]: in region [0]: had initial population [5]\n",
            "ID[6]: of type [2]: in region [2]: had initial population [5]\n",
            "ID[7]: of type [3]: in region [3]: had initial population [12]\n",
            "ID[8]: of type [1]: in region [2]: had initial population [12]\n",
            "ID[9]: of type [0]: in region [2]: had initial population [14]\n",
            "ID[10]: of type [0]: in region [3]: had initial population [10]\n",
            "ID[11]: of type [1]: in region [0]: had initial population [11]\n",
            "ID[12]: of type [2]: in region [0]: had initial population [9]\n",
            "ID[13]: of type [1]: in region [2]: had initial population [9]\n",
            "ID[14]: of type [2]: in region [3]: had initial population [9]\n",
            "ID[15]: of type [3]: in region [2]: had initial population [5]\n",
            "ID[16]: of type [3]: in region [0]: had initial population [7]\n",
            "ID[17]: of type [2]: in region [3]: had initial population [5]\n",
            "ID[18]: of type [2]: in region [2]: had initial population [9]\n",
            "ID[19]: of type [0]: in region [3]: had initial population [9]\n",
            "ID[20]: of type [0]: in region [3]: had initial population [6]\n",
            "ID[21]: of type [1]: in region [2]: had initial population [10]\n",
            "ID[22]: of type [3]: in region [0]: had initial population [8]\n",
            "ID[23]: of type [3]: in region [3]: had initial population [5]\n",
            "ID[24]: of type [0]: in region [2]: had initial population [6]\n",
            "ID[25]: of type [2]: in region [2]: had initial population [14]\n",
            "ID[26]: of type [0]: in region [0]: had initial population [8]\n",
            "ID[27]: of type [2]: in region [0]: had initial population [12]\n",
            "ID[28]: of type [2]: in region [2]: had initial population [6]\n",
            "ID[29]: of type [3]: in region [0]: had initial population [9]\n",
            "ID[30]: of type [2]: in region [2]: had initial population [11]\n",
            "ID[31]: of type [0]: in region [1]: had initial population [12]\n",
            "ID[32]: of type [3]: in region [0]: had initial population [13]\n",
            "ID[33]: of type [1]: in region [1]: had initial population [12]\n",
            "ID[34]: of type [3]: in region [1]: had initial population [14]\n",
            "ID[35]: of type [3]: in region [1]: had initial population [10]\n",
            "ID[36]: of type [2]: in region [2]: had initial population [5]\n",
            "ID[37]: of type [2]: in region [1]: had initial population [7]\n",
            "ID[38]: of type [0]: in region [0]: had initial population [12]\n",
            "ID[39]: of type [2]: in region [0]: had initial population [13]\n",
            "ID[40]: of type [3]: in region [1]: had initial population [14]\n",
            "ID[41]: of type [0]: in region [0]: had initial population [5]\n",
            "ID[42]: of type [3]: in region [3]: had initial population [6]\n",
            "ID[43]: of type [0]: in region [3]: had initial population [6]\n",
            "ID[44]: of type [1]: in region [2]: had initial population [14]\n",
            "ID[45]: of type [1]: in region [0]: had initial population [12]\n",
            "ID[46]: of type [3]: in region [1]: had initial population [7]\n",
            "ID[47]: of type [0]: in region [1]: had initial population [6]\n",
            "ID[48]: of type [2]: in region [0]: had initial population [11]\n",
            "ID[49]: of type [3]: in region [2]: had initial population [5]\n",
            "ID[50]: of type [1]: in region [3]: had initial population [13]\n",
            "ID[51]: of type [0]: in region [1]: had initial population [5]\n",
            "ID[52]: of type [2]: in region [1]: had initial population [12]\n",
            "ID[53]: of type [0]: in region [3]: had initial population [6]\n",
            "ID[54]: of type [0]: in region [0]: had initial population [11]\n",
            "ID[55]: of type [0]: in region [1]: had initial population [14]\n",
            "ID[56]: of type [0]: in region [2]: had initial population [14]\n",
            "ID[57]: of type [3]: in region [0]: had initial population [14]\n",
            "ID[58]: of type [2]: in region [0]: had initial population [10]\n",
            "ID[59]: of type [0]: in region [2]: had initial population [14]\n",
            "ID[60]: of type [2]: in region [2]: had initial population [14]\n",
            "ID[61]: of type [3]: in region [3]: had initial population [10]\n",
            "ID[62]: of type [2]: in region [3]: had initial population [10]\n",
            "ID[63]: of type [0]: in region [2]: had initial population [11]\n",
            "\n",
            "----------\n",
            "----------\n",
            "----------\n",
            "ID[0]: of type [3]: in region [2]: had final population [6]\n",
            "ID[1]: of type [1]: in region [2]: had final population [14]\n",
            "ID[2]: of type [3]: in region [3]: had final population [73]\n",
            "ID[3]: of type [0]: in region [3]: had final population [9]\n",
            "ID[4]: of type [2]: in region [0]: had final population [38]\n",
            "ID[5]: of type [0]: in region [0]: had final population [5]\n",
            "ID[6]: of type [2]: in region [2]: had final population [5]\n",
            "ID[7]: of type [3]: in region [3]: had final population [63]\n",
            "ID[8]: of type [1]: in region [2]: had final population [12]\n",
            "ID[9]: of type [0]: in region [2]: had final population [14]\n",
            "ID[10]: of type [0]: in region [3]: had final population [10]\n",
            "ID[11]: of type [1]: in region [0]: had final population [11]\n",
            "ID[12]: of type [2]: in region [0]: had final population [11]\n",
            "ID[13]: of type [1]: in region [2]: had final population [9]\n",
            "ID[14]: of type [2]: in region [3]: had final population [9]\n",
            "ID[15]: of type [3]: in region [2]: had final population [5]\n",
            "ID[16]: of type [3]: in region [0]: had final population [11]\n",
            "ID[17]: of type [2]: in region [3]: had final population [5]\n",
            "ID[18]: of type [2]: in region [2]: had final population [33]\n",
            "ID[19]: of type [0]: in region [3]: had final population [14]\n",
            "ID[20]: of type [0]: in region [3]: had final population [11]\n",
            "ID[21]: of type [1]: in region [2]: had final population [26]\n",
            "ID[22]: of type [3]: in region [0]: had final population [14]\n",
            "ID[23]: of type [3]: in region [3]: had final population [9]\n",
            "ID[24]: of type [0]: in region [2]: had final population [6]\n",
            "ID[25]: of type [2]: in region [2]: had final population [46]\n",
            "ID[26]: of type [0]: in region [0]: had final population [16]\n",
            "ID[27]: of type [2]: in region [0]: had final population [12]\n",
            "ID[28]: of type [2]: in region [2]: had final population [6]\n",
            "ID[29]: of type [3]: in region [0]: had final population [21]\n",
            "ID[30]: of type [2]: in region [2]: had final population [23]\n",
            "ID[31]: of type [0]: in region [1]: had final population [21]\n",
            "ID[32]: of type [3]: in region [0]: had final population [28]\n",
            "ID[33]: of type [1]: in region [1]: had final population [12]\n",
            "ID[34]: of type [3]: in region [1]: had final population [14]\n",
            "ID[35]: of type [3]: in region [1]: had final population [10]\n",
            "ID[36]: of type [2]: in region [2]: had final population [12]\n",
            "ID[37]: of type [2]: in region [1]: had final population [12]\n",
            "ID[38]: of type [0]: in region [0]: had final population [17]\n",
            "ID[39]: of type [2]: in region [0]: had final population [23]\n",
            "ID[40]: of type [3]: in region [1]: had final population [73]\n",
            "ID[41]: of type [0]: in region [0]: had final population [5]\n",
            "ID[42]: of type [3]: in region [3]: had final population [26]\n",
            "ID[43]: of type [0]: in region [3]: had final population [6]\n",
            "ID[44]: of type [1]: in region [2]: had final population [19]\n",
            "ID[45]: of type [1]: in region [0]: had final population [12]\n",
            "ID[46]: of type [3]: in region [1]: had final population [7]\n",
            "ID[47]: of type [0]: in region [1]: had final population [11]\n",
            "ID[48]: of type [2]: in region [0]: had final population [11]\n",
            "ID[49]: of type [3]: in region [2]: had final population [5]\n",
            "ID[50]: of type [1]: in region [3]: had final population [13]\n",
            "ID[51]: of type [0]: in region [1]: had final population [5]\n",
            "ID[52]: of type [2]: in region [1]: had final population [17]\n",
            "ID[53]: of type [0]: in region [3]: had final population [15]\n",
            "ID[54]: of type [0]: in region [0]: had final population [21]\n",
            "ID[55]: of type [0]: in region [1]: had final population [25]\n",
            "ID[56]: of type [0]: in region [2]: had final population [51]\n",
            "ID[57]: of type [3]: in region [0]: had final population [24]\n",
            "ID[58]: of type [2]: in region [0]: had final population [24]\n",
            "ID[59]: of type [0]: in region [2]: had final population [32]\n",
            "ID[60]: of type [2]: in region [2]: had final population [46]\n",
            "ID[61]: of type [3]: in region [3]: had final population [50]\n",
            "ID[62]: of type [2]: in region [3]: had final population [10]\n",
            "ID[63]: of type [0]: in region [2]: had final population [16]\n",
            "\n"
          ]
        }
      ]
    }
  ]
}