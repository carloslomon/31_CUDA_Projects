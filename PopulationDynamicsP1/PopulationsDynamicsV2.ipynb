{
  "nbformat": 4,
  "nbformat_minor": 0,
  "metadata": {
    "colab": {
      "provenance": []
    },
    "kernelspec": {
      "name": "python3",
      "display_name": "Python 3"
    },
    "language_info": {
      "name": "python"
    }
  },
  "cells": [
    {
      "cell_type": "markdown",
      "source": [
        "# Population Dynamics in CUDA V1\n",
        "\n",
        "For this simulation we will assume the world is split into `NUM_REGIONS` (our constant variable) different regions. Each region will be filled with `COMMUNITIES_PER_NUM_SPECIES` different communities of each of the `NUM_SPECIES` different species. Each of the communities is initialized with this information and a `population` and a `growth` rate which is all within a `species community` struct as shown below.\n",
        "\n",
        "\n",
        "```\n",
        "typedef struct {\n",
        "    int population;        // the population of a speciies\n",
        "    int food_collected;    // the food collected in the current time period\n",
        "    int region_of_world;   // region of this species community\n",
        "    int species_type;      // type of species for this species community\n",
        "    float growth_rate;     // growth_rate for this species community\n",
        "    float helperf;         // flag in case helpful to have one (you may not need this)\n",
        "} Species_Community;\n",
        "\n",
        "```\n",
        "We only have a helper float variable `helperf`\n"
      ],
      "metadata": {
        "id": "W5bZWYZxgS4m"
      }
    },
    {
      "cell_type": "markdown",
      "source": [
        "The simulation runs for `NUM_TIMEPERIODS`. At each time period all of the members of each species calls the `food_oracle` inorder for everyone to `gather_all_food`. After all food is collected we can `update_all_populations` based on the amount of food gathered. In order to do so we need to first `compute_local_population_share` which is the percentage of all species WITHIN A SINGLE REGION that belong to a given species. We can then use that to `update_community_population` for each community of each species based on 3 rules as listed in later sections of this document."
      ],
      "metadata": {
        "id": "wzk0aIfXij4l"
      }
    },
    {
      "cell_type": "markdown",
      "source": [
        "#### First we'll implement helper functions:\n",
        "\n",
        "`update_community_population`\n",
        "\n",
        "For a given community, update its population based on the input `local_population_share` and the following three rules:\n",
        "1. The change in population for a community is directly proportional to its growth_rate and local_population_share (aka the percent change is the multiplication of both the growth_rate and local_population_share); make sure to round down.\n",
        "2. If it has collected enough food to feed the population it grows, else it shrinks by the percent change determined above.\n",
        "3. If the population drops below 5 it goes extinct (aka becomes 0).\n",
        "\n",
        "`compute_local_population_share`\n",
        "\n",
        "Returns the population share for a given community. Population share is defined as the percentage of the total population in a region for a given species across all communities of all species.\n",
        "\n",
        "#### Then we'll implement the overall population update step:\n",
        "\n",
        "`update_all_populations`\n",
        "\n",
        "Updates the population for all communities of all species. Some quick hints/notes:\n",
        "1. You will need to use compute_local_population_share and update_community_population\n",
        "2. Make sure your logic is thread safe! Remember when you launch a kernel every line of the code is run by every thread in parallel!\n",
        "3. Feel free to use helper functions if that makes your life easier!\n",
        "\n",
        "#### Next we'll implement the food gathering step:\n",
        "\n",
        "`gather_all_food`\n",
        "\n",
        "Each simualtion step we reset the food counts to 0 and then each member of the population tries to collect food using the food_oracle(). Try to maximize parallelism.\n",
        "\n",
        "#### Then we'll implement the main kernel and function:\n",
        "\n",
        "`population_dynamics_kernel`\n",
        "\n",
        "The kernel is the code that will run on the GPU. You want to make sure all NUM_TIME_PERIODS of gather_all_food and update_all_populations are run. To maximize performance on the GPU, you'll want to use shared memory to speed things up, but then make sure to save things back to RAM once you're done! Be careful that you copy the values from inside structs as needed!\n",
        "\n",
        "Finally, we'll launch the main kernel from the main function:\n",
        "\n",
        "`population_dynamics`\n",
        "\n",
        "Remember that we need to be careful about GPU vs. CPU memory! So set up GPU memory, run the kernel, and clean up GPU memory!"
      ],
      "metadata": {
        "id": "LOx6o8Xkjb7a"
      }
    },
    {
      "cell_type": "code",
      "source": [
        "!nvcc --version"
      ],
      "metadata": {
        "id": "El6BrLD9iSpI",
        "colab": {
          "base_uri": "https://localhost:8080/"
        },
        "outputId": "ef9b5ecc-ef15-4154-f931-4333a5f34181"
      },
      "execution_count": null,
      "outputs": [
        {
          "output_type": "stream",
          "name": "stdout",
          "text": [
            "nvcc: NVIDIA (R) Cuda compiler driver\n",
            "Copyright (c) 2005-2023 NVIDIA Corporation\n",
            "Built on Tue_Aug_15_22:02:13_PDT_2023\n",
            "Cuda compilation tools, release 12.2, V12.2.140\n",
            "Build cuda_12.2.r12.2/compiler.33191640_0\n"
          ]
        }
      ]
    },
    {
      "cell_type": "code",
      "source": [
        "!nvidia-smi"
      ],
      "metadata": {
        "id": "Sur0uLf5QE8z",
        "colab": {
          "base_uri": "https://localhost:8080/"
        },
        "outputId": "cf0b9cc0-a143-47ec-89c8-7faa7ea462be"
      },
      "execution_count": null,
      "outputs": [
        {
          "output_type": "stream",
          "name": "stdout",
          "text": [
            "Fri May 24 06:17:20 2024       \n",
            "+---------------------------------------------------------------------------------------+\n",
            "| NVIDIA-SMI 535.104.05             Driver Version: 535.104.05   CUDA Version: 12.2     |\n",
            "|-----------------------------------------+----------------------+----------------------+\n",
            "| GPU  Name                 Persistence-M | Bus-Id        Disp.A | Volatile Uncorr. ECC |\n",
            "| Fan  Temp   Perf          Pwr:Usage/Cap |         Memory-Usage | GPU-Util  Compute M. |\n",
            "|                                         |                      |               MIG M. |\n",
            "|=========================================+======================+======================|\n",
            "|   0  Tesla T4                       Off | 00000000:00:04.0 Off |                    0 |\n",
            "| N/A   35C    P8              11W /  70W |      0MiB / 15360MiB |      0%      Default |\n",
            "|                                         |                      |                  N/A |\n",
            "+-----------------------------------------+----------------------+----------------------+\n",
            "                                                                                         \n",
            "+---------------------------------------------------------------------------------------+\n",
            "| Processes:                                                                            |\n",
            "|  GPU   GI   CI        PID   Type   Process name                            GPU Memory |\n",
            "|        ID   ID                                                             Usage      |\n",
            "|=======================================================================================|\n",
            "|  No running processes found                                                           |\n",
            "+---------------------------------------------------------------------------------------+\n"
          ]
        }
      ]
    },
    {
      "cell_type": "code",
      "source": [
        "!pip install nvcc4jupyter\n",
        "%load_ext nvcc4jupyter"
      ],
      "metadata": {
        "colab": {
          "base_uri": "https://localhost:8080/"
        },
        "id": "DkkAYE6pQHza",
        "outputId": "f8da3e8a-f99a-4e97-d946-092e4d23304d"
      },
      "execution_count": null,
      "outputs": [
        {
          "output_type": "stream",
          "name": "stdout",
          "text": [
            "Requirement already satisfied: nvcc4jupyter in /usr/local/lib/python3.10/dist-packages (1.2.1)\n",
            "The nvcc4jupyter extension is already loaded. To reload it, use:\n",
            "  %reload_ext nvcc4jupyter\n"
          ]
        }
      ]
    },
    {
      "cell_type": "code",
      "source": [
        "%%cuda_group_save -n helpers.h -g default\n",
        "#include <iostream>\n",
        "#define NUM_REGIONS 2\n",
        "#define NUM_SPECIES 2\n",
        "#define COMMUNITIES_PER_NUM_SPECIES 2\n",
        "#define COMMUNITIES_PER_REGION (NUM_SPECIES*COMMUNITIES_PER_NUM_SPECIES)\n",
        "#define TOTAL_COMMUNITIES (NUM_REGIONS * COMMUNITIES_PER_REGION)\n",
        "#define MAX_STARTING_POP 10\n",
        "#define NUM_TIME_PERIODS 5\n",
        "// for this simulation, we will only consider 1 block\n",
        "#define NUM_BLOCKS 1\n",
        "#define NUM_THREADS (TOTAL_COMMUNITIES/NUM_BLOCKS)\n",
        "// We will have a block with 8 threads since we have 2 species, 2 communities per species, and 2 regions\n",
        "//Now lets move on with the food oracle\n",
        "typedef struct {\n",
        "    int population; // the current count of population memebers\n",
        "    int food_collected; // the current count of food collected\n",
        "    int region_of_world; // region of the world we only have 2\n",
        "    int species_type; // species type is just an int and we have 2 species\n",
        "    float growth_rate; // this is a growth rate that we will define in latter functions\n",
        "    float helperf; //this is our helper float\n",
        "\n",
        "} Species_Community;\n",
        "__host__ __device__\n",
        "int food_oracle(int community_id){ return 1;\n",
        "    //random range integer in range [0, max_range]\n",
        "}\n",
        "__host__\n",
        "int rand_range(int max_range){\n",
        "    return rand() % max_range;\n",
        "    //random float in range [0,1]\n",
        "}\n",
        "__host__\n",
        "float rand01(){\n",
        "    return (float)rand()/(float)RAND_MAX; // make sure to cas to float\n",
        "}"
      ],
      "metadata": {
        "id": "bcka4qOmRiCt"
      },
      "execution_count": null,
      "outputs": []
    },
    {
      "cell_type": "code",
      "source": [
        "%%cuda_group_save -n util.h -g default\n",
        "#include \"helpers.h\"\n",
        "//function to simulate population change for one community of one species\n",
        "// 1) change in pop for a community is proportional to its growth rate and local population share\n",
        "// 2) If the community has collected enough food to feed the population, it grows else it shrinks\n",
        "// 3) If the population drops below 5, it goes extinct\n",
        "__device__\n",
        "void update_community_population(Species_Community *s_communities, int community_id, float local_population_share){\n",
        "    float percent_change = local_population_share * s_communities[community_id].growth_rate;\n",
        "    // proportional to means the derivative or rate of change is the product of the growth_rate and local_population_share\n",
        "    int grow_or_shrink = s_communities[community_id].population >= s_communities[community_id].food_collected ? 1 : -1;\n",
        "    int new_pop = s_communities[community_id].population * (grow_or_shrink * percent_change + 1); // new population\n",
        "    s_communities[community_id].population = (new_pop >= 5) * new_pop;\n",
        "}\n",
        "// fctn to find the local population share\n",
        "//1) Population share is defined as the percentage of pop in a region\n",
        "//that is a given species across all communities of all species\n",
        "// 2) We can assume this fctn is run as if it were a single thread.\n",
        "__device__\n",
        "float compute_local_population_share(Species_Community *s_communities, int community_id){\n",
        "    //here we just want the total regional pop and the total species pop in the region\n",
        "    int target_species = s_communities[community_id].species_type;\n",
        "    int target_region = s_communities[community_id].region_of_world;\n",
        "    int total_pop_in_the_region = 0;\n",
        "    int total_species_pop_in_the_region = 0;\n",
        "    for(int id =0; id < TOTAL_COMMUNITIES; id++){\n",
        "        if(s_communities[id].region_of_world == target_region){\n",
        "            total_pop_in_the_region += s_communities[id].population;\n",
        "            if(s_communities[id].species_type == target_species){\n",
        "                total_species_pop_in_the_region += s_communities[id].population;\n",
        "            }\n",
        "        }\n",
        "    }\n",
        "    __syncthreads();\n",
        "    return ((float)total_species_pop_in_the_region)/((float)total_pop_in_the_region);\n",
        "}\n",
        "\n",
        "//fctn to simulate food gathering.\n",
        "//1) total food is always reset to 0 for each call and each member of the population.\n",
        "//2) Please use food_oracle() to get a new amount of food for each memeber of the population\n",
        "__device__\n",
        "void gather_all_food(Species_Community *s_communities){\n",
        "    //now\n",
        "    for(int id = threadIdx.x; id < TOTAL_COMMUNITIES; id+=blockDim.x){\n",
        "        //equivalently we can use id++ or id += blockDim.x bc our block dim is 1\n",
        "        s_communities[id].food_collected = 0;\n",
        "        //int population = (unsigned) s_communities[id].population;\n",
        "        for(int i =0; i< s_communities[id].population; i++){\n",
        "            s_communities[id].food_collected += food_oracle(id);\n",
        "        }\n",
        "\n",
        "    }\n",
        "    __syncthreads();\n",
        "}\n",
        "\n",
        "//update all populations for all communities of all species;\n",
        "//1) We will need to use compute_ocal_population_share and update_community_population\n",
        "//2) We can use as many threads as possible but the logic has to be safe\n",
        "//3) We can use the helperf to store values when running the function in parallel\n",
        "__device__\n",
        "void update_all_populations(Species_Community *s_communities){\n",
        "    for(int id = threadIdx.x; id < TOTAL_COMMUNITIES; id+=blockDim.x){\n",
        "        s_communities[id].helperf = compute_local_population_share(s_communities, id);\n",
        "    }\n",
        "    __syncthreads();\n",
        "    for(int id = threadIdx.x; id < TOTAL_COMMUNITIES; id+=blockDim.x){\n",
        "        //printf(\"%u\",blockDim.x);\n",
        "        update_community_population(s_communities, id, s_communities[id].helperf);\n",
        "    }\n",
        "    __syncthreads();\n",
        "}\n",
        "__global__\n",
        "void population_dynamics_kernel(Species_Community *d_communities){ //here we change the varname to d_communities since we run it in the device\n",
        "    for(int i =0; i < NUM_TIME_PERIODS; i++){\n",
        "        int community_id = threadIdx.x;\n",
        "        if(community_id < TOTAL_COMMUNITIES){\n",
        "            gather_all_food(d_communities);\n",
        "        }\n",
        "        __syncthreads();\n",
        "\n",
        "        update_all_populations(d_communities);\n",
        "    }\n",
        "    __syncthreads();\n",
        "\n",
        "}\n",
        "\n",
        "//The main functions\n",
        "\n",
        "__host__\n",
        "void population_dynamics(Species_Community *h_communities){\n",
        "    //cudaSetDevice(0);\n",
        "    Species_Community *d_communities;\n",
        "    cudaMalloc(&d_communities, sizeof(Species_Community)*TOTAL_COMMUNITIES); //allocate data in the device // I confused this cuda_memcpy\n",
        "    //below we are loading from host to device\n",
        "    cudaMemcpy(d_communities, h_communities, sizeof(Species_Community)*TOTAL_COMMUNITIES, cudaMemcpyHostToDevice);\n",
        "    cudaDeviceSynchronize();\n",
        "    //run kernel\n",
        "    population_dynamics_kernel<<<NUM_BLOCKS, NUM_THREADS>>>(d_communities);\n",
        "    cudaDeviceSynchronize();\n",
        "    cudaGetLastError(); //just in case to catch an error\n",
        "\n",
        "    //now load from device to Host\n",
        "    cudaMemcpy(h_communities, d_communities, sizeof(Species_Community) * TOTAL_COMMUNITIES, cudaMemcpyDeviceToHost);\n",
        "    cudaDeviceSynchronize();\n",
        "    //Now we free the memory\n",
        "    cudaFree(d_communities);\n",
        "}"
      ],
      "metadata": {
        "id": "aOWzQU1hkXq6"
      },
      "execution_count": null,
      "outputs": []
    },
    {
      "cell_type": "code",
      "source": [
        "\n",
        "%%cuda_group_save -n run.cu -g default\n",
        "#include \"util.h\"\n",
        "__host__\n",
        "int main(){\n",
        "    srand(1337);\n",
        "    Species_Community h_communities[TOTAL_COMMUNITIES];\n",
        "    for(int community_id =0; community_id < TOTAL_COMMUNITIES; community_id++){\n",
        "        //I like to use id for the sake of simplicty but you can use community_id for clarity\n",
        "        h_communities[community_id].population = rand_range(MAX_STARTING_POP) + 5; // set starting pop\n",
        "        h_communities[community_id].region_of_world = rand_range(NUM_REGIONS); // we can randomly assign regions here; 0 or 1\n",
        "        h_communities[community_id].species_type = rand_range(NUM_SPECIES); // species type is also random 0 or 1\n",
        "        h_communities[community_id].growth_rate = rand01();  //between 0 and 1\n",
        "    }\n",
        "    for(int community_id = 0; community_id < TOTAL_COMMUNITIES; community_id++){\n",
        "        std::cout << \"ID[\" << community_id << \"]: of type [\" << h_communities[community_id].species_type << \"]: in region [\" << h_communities[community_id].region_of_world <<\n",
        "        \"]: had initial population [\" << h_communities[community_id].population << \"]\" << std::endl;\n",
        "    }\n",
        "\n",
        "    // now we call the main fctn for pop_dynamics\n",
        "    population_dynamics(h_communities);\n",
        "\n",
        "    //Now we can proceed to print the final results yay\n",
        "    std::cout << \"\\n----------\\n----------\\n----------\\n\";\n",
        "\n",
        "    for(int community_id = 0; community_id < TOTAL_COMMUNITIES; community_id++){\n",
        "        std::cout << \"ID[\" << community_id << \"]: of type [\" << h_communities[community_id].species_type << \"]: in region [\" << h_communities[community_id].region_of_world <<\n",
        "        \"]: had final population [\" << h_communities[community_id].population << \"]\" << std::endl;\n",
        "    }\n",
        "    return 0;\n",
        "\n",
        "\n",
        "}"
      ],
      "metadata": {
        "id": "o-T-Ed1PXaD5"
      },
      "execution_count": null,
      "outputs": []
    },
    {
      "cell_type": "code",
      "source": [
        "%cuda_group_run -g default"
      ],
      "metadata": {
        "colab": {
          "base_uri": "https://localhost:8080/"
        },
        "id": "Oj3kD9luBiSF",
        "outputId": "526b8a18-ab89-4836-ba7a-e5b415694980"
      },
      "execution_count": null,
      "outputs": [
        {
          "output_type": "stream",
          "name": "stdout",
          "text": [
            "ID[0]: of type [1]: in region [0]: had initial population [6]\n",
            "ID[1]: of type [1]: in region [0]: had initial population [9]\n",
            "ID[2]: of type [1]: in region [1]: had initial population [13]\n",
            "ID[3]: of type [0]: in region [1]: had initial population [9]\n",
            "ID[4]: of type [0]: in region [0]: had initial population [10]\n",
            "ID[5]: of type [0]: in region [0]: had initial population [5]\n",
            "ID[6]: of type [0]: in region [0]: had initial population [5]\n",
            "ID[7]: of type [1]: in region [1]: had initial population [12]\n",
            "8888888888888888888888888888888888888888\n",
            "----------\n",
            "----------\n",
            "----------\n",
            "ID[0]: of type [1]: in region [0]: had final population [11]\n",
            "ID[1]: of type [1]: in region [0]: had final population [14]\n",
            "ID[2]: of type [1]: in region [1]: had final population [237]\n",
            "ID[3]: of type [0]: in region [1]: had final population [9]\n",
            "ID[4]: of type [0]: in region [0]: had final population [97]\n",
            "ID[5]: of type [0]: in region [0]: had final population [24]\n",
            "ID[6]: of type [0]: in region [0]: had final population [5]\n",
            "ID[7]: of type [1]: in region [1]: had final population [218]\n",
            "\n"
          ]
        }
      ]
    }
  ]
}